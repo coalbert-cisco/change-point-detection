{
 "cells": [
  {
   "cell_type": "markdown",
   "metadata": {},
   "source": [
    "# Scan B-Statistic for Kernel Change-Point Detection Testing"
   ]
  },
  {
   "cell_type": "markdown",
   "metadata": {},
   "source": [
    "## 0: Dependencies\n",
    "\n",
    "### 0.1: Packages"
   ]
  },
  {
   "cell_type": "code",
   "execution_count": 1,
   "metadata": {},
   "outputs": [],
   "source": [
    "import pandas as pd\n",
    "import numpy as np\n",
    "import matplotlib.pyplot as plt"
   ]
  },
  {
   "cell_type": "markdown",
   "metadata": {},
   "source": [
    "### 0.2: Helper File(s)"
   ]
  },
  {
   "cell_type": "code",
   "execution_count": 2,
   "metadata": {},
   "outputs": [],
   "source": [
    "from change_point_detection_helper import detect_change_points\n",
    "import change_point_detection_test_helper_data as hd"
   ]
  },
  {
   "cell_type": "markdown",
   "metadata": {},
   "source": [
    "### 0.3: Declaring Constants"
   ]
  },
  {
   "cell_type": "code",
   "execution_count": 3,
   "metadata": {},
   "outputs": [],
   "source": [
    "number_of_blocks = hd.number_of_blocks\n",
    "sampling_block_size = hd.sampling_block_size\n",
    "alarm_threshold = hd.alarm_threshold"
   ]
  },
  {
   "cell_type": "markdown",
   "metadata": {},
   "source": [
    "## 1: Generate Data and Apply Method"
   ]
  },
  {
   "cell_type": "markdown",
   "metadata": {},
   "source": [
    "### 1.1: Sudden Mean Shift"
   ]
  },
  {
   "cell_type": "code",
   "execution_count": 4,
   "metadata": {},
   "outputs": [
    {
     "name": "stdout",
     "output_type": "stream",
     "text": [
      "Change-points were found at the following time steps: 105.\n"
     ]
    }
   ],
   "source": [
    "series1_change_points, found = detect_change_points(\n",
    "    X=hd.sudden_mean_shift_data,\n",
    "    number_of_blocks=number_of_blocks,\n",
    "    sampling_block_size=sampling_block_size,\n",
    "    alarm_threshold=alarm_threshold,\n",
    "    kernel_bandwidth=hd.sudden_mean_shift_kernel_bandwidth,\n",
    ")\n",
    "print(\n",
    "    f\"Change-points were found at the following time steps: {series1_change_points}.\"\n",
    ") if found else \"No change-points were found.\""
   ]
  },
  {
   "cell_type": "markdown",
   "metadata": {},
   "source": [
    "### 1.2: Gradual Mean Shift"
   ]
  },
  {
   "cell_type": "code",
   "execution_count": 5,
   "metadata": {},
   "outputs": [
    {
     "name": "stdout",
     "output_type": "stream",
     "text": [
      "Change-points were found at the following time steps: 102.\n"
     ]
    }
   ],
   "source": [
    "series2_change_points, found = detect_change_points(\n",
    "    X=hd.gradual_mean_shift_data,\n",
    "    number_of_blocks=number_of_blocks,\n",
    "    sampling_block_size=sampling_block_size,\n",
    "    alarm_threshold=alarm_threshold,\n",
    "    kernel_bandwidth=hd.gradual_mean_shift_kernel_bandwidth,\n",
    ")\n",
    "print(\n",
    "    f\"Change-points were found at the following time steps: {series2_change_points}.\"\n",
    ") if found else \"No change-points were found.\""
   ]
  },
  {
   "cell_type": "markdown",
   "metadata": {},
   "source": [
    "### 1.3: Sudden Variance Shift"
   ]
  },
  {
   "cell_type": "code",
   "execution_count": 6,
   "metadata": {},
   "outputs": [
    {
     "name": "stdout",
     "output_type": "stream",
     "text": [
      "Change-points were found at the following time steps: 104.\n"
     ]
    }
   ],
   "source": [
    "series3_change_points, found = detect_change_points(\n",
    "    X=hd.sudden_variance_shift_data,\n",
    "    number_of_blocks=number_of_blocks,\n",
    "    sampling_block_size=sampling_block_size,\n",
    "    alarm_threshold=alarm_threshold,\n",
    "    kernel_bandwidth=hd.sudden_variance_shift_kernel_bandwidth,\n",
    ")\n",
    "print(\n",
    "    f\"Change-points were found at the following time steps: {series3_change_points}.\"\n",
    ") if found else \"No change-points were found.\""
   ]
  },
  {
   "cell_type": "markdown",
   "metadata": {},
   "source": [
    "### 1.4: Periodic Signal With Noise"
   ]
  },
  {
   "cell_type": "code",
   "execution_count": 7,
   "metadata": {},
   "outputs": [
    {
     "name": "stdout",
     "output_type": "stream",
     "text": [
      "Change-points were found at the following time steps: 72.\n"
     ]
    }
   ],
   "source": [
    "series4_change_points, found = detect_change_points(\n",
    "    X=hd.periodic_signal_with_noise_data,\n",
    "    number_of_blocks=number_of_blocks,\n",
    "    sampling_block_size=sampling_block_size,\n",
    "    alarm_threshold=alarm_threshold,\n",
    "    kernel_bandwidth=hd.periodic_signal_with_noise_kernel_bandwidth,\n",
    ")\n",
    "print(\n",
    "    f\"Change-points were found at the following time steps: {series4_change_points}.\"\n",
    ") if found else \"No change-points were found.\""
   ]
  },
  {
   "cell_type": "markdown",
   "metadata": {},
   "source": [
    "### 1.5: Random Walk With Drift"
   ]
  },
  {
   "cell_type": "code",
   "execution_count": 8,
   "metadata": {},
   "outputs": [
    {
     "name": "stdout",
     "output_type": "stream",
     "text": [
      "Change-points were found at the following time steps: 197.\n"
     ]
    }
   ],
   "source": [
    "series5_change_points, found = detect_change_points(\n",
    "    X=hd.gaussian_to_laplace_data,\n",
    "    number_of_blocks=number_of_blocks,\n",
    "    sampling_block_size=sampling_block_size,\n",
    "    alarm_threshold=alarm_threshold,\n",
    "    kernel_bandwidth=hd.gaussian_to_laplace_kernel_bandwidth,\n",
    ")\n",
    "print(\n",
    "    f\"Change-points were found at the following time steps: {series5_change_points}.\"\n",
    ") if found else \"No change-points were found.\""
   ]
  },
  {
   "cell_type": "markdown",
   "metadata": {},
   "source": [
    "## 2: Plot Change Points"
   ]
  },
  {
   "cell_type": "markdown",
   "metadata": {},
   "source": []
  }
 ],
 "metadata": {
  "kernelspec": {
   "display_name": ".venv",
   "language": "python",
   "name": "python3"
  },
  "language_info": {
   "codemirror_mode": {
    "name": "ipython",
    "version": 3
   },
   "file_extension": ".py",
   "mimetype": "text/x-python",
   "name": "python",
   "nbconvert_exporter": "python",
   "pygments_lexer": "ipython3",
   "version": "3.9.6"
  }
 },
 "nbformat": 4,
 "nbformat_minor": 2
}
